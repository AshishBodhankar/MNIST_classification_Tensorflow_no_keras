{
  "nbformat": 4,
  "nbformat_minor": 0,
  "metadata": {
    "colab": {
      "name": "MNIST handwritten digits classification in Tensorflow.ipynb",
      "provenance": [],
      "collapsed_sections": []
    },
    "kernelspec": {
      "name": "python3",
      "display_name": "Python 3"
    },
    "language_info": {
      "name": "python"
    },
    "accelerator": "GPU"
  },
  "cells": [
    {
      "cell_type": "markdown",
      "source": [
        "## We use the **TensorFlow** framework (***without Keras***) to develop a multi-class classification problem on the MNIST handwritten digits dataset. We build a network of only fully connected feed forward layers. That is, no Convolution layer exists in the architecture. \n",
        "### (http://yann.lecun.com/exdb/mnist/)\n",
        "\n",
        "\n",
        "\n",
        "1. We make observations on the model's loss on the minibatches during training.\n",
        "2. Plot the classification error on the Validation set\n",
        "2. We **train and compare** different neural networks to understand the significance of **Regularization** (*L2 and Dropout*)."
      ],
      "metadata": {
        "id": "XT-I2Z-zjvlY"
      }
    },
    {
      "cell_type": "code",
      "source": [
        "!nvidia-smi"
      ],
      "metadata": {
        "colab": {
          "base_uri": "https://localhost:8080/"
        },
        "id": "yo7j3lvoQoag",
        "outputId": "e74bfb1c-4921-48c4-bac4-9f88ccdd6159"
      },
      "execution_count": null,
      "outputs": [
        {
          "output_type": "stream",
          "name": "stdout",
          "text": [
            "Fri Dec 10 21:32:01 2021       \n",
            "+-----------------------------------------------------------------------------+\n",
            "| NVIDIA-SMI 495.44       Driver Version: 460.32.03    CUDA Version: 11.2     |\n",
            "|-------------------------------+----------------------+----------------------+\n",
            "| GPU  Name        Persistence-M| Bus-Id        Disp.A | Volatile Uncorr. ECC |\n",
            "| Fan  Temp  Perf  Pwr:Usage/Cap|         Memory-Usage | GPU-Util  Compute M. |\n",
            "|                               |                      |               MIG M. |\n",
            "|===============================+======================+======================|\n",
            "|   0  Tesla P100-PCIE...  Off  | 00000000:00:04.0 Off |                    0 |\n",
            "| N/A   35C    P0    27W / 250W |      0MiB / 16280MiB |      0%      Default |\n",
            "|                               |                      |                  N/A |\n",
            "+-------------------------------+----------------------+----------------------+\n",
            "                                                                               \n",
            "+-----------------------------------------------------------------------------+\n",
            "| Processes:                                                                  |\n",
            "|  GPU   GI   CI        PID   Type   Process name                  GPU Memory |\n",
            "|        ID   ID                                                   Usage      |\n",
            "|=============================================================================|\n",
            "|  No running processes found                                                 |\n",
            "+-----------------------------------------------------------------------------+\n"
          ]
        }
      ]
    },
    {
      "cell_type": "code",
      "execution_count": null,
      "metadata": {
        "colab": {
          "base_uri": "https://localhost:8080/"
        },
        "id": "hbZO0F8KjBJz",
        "outputId": "4fe5f516-d098-4a4a-e93b-63f9cc11f79c"
      },
      "outputs": [
        {
          "output_type": "stream",
          "name": "stdout",
          "text": [
            "TensorFlow Version:  2.7.0\n"
          ]
        }
      ],
      "source": [
        "## Import the necessary libraries\n",
        "import tensorflow as tf\n",
        "print(\"TensorFlow Version: \",tf.__version__)"
      ]
    },
    {
      "cell_type": "code",
      "source": [
        "mnist = tf.keras.datasets.mnist"
      ],
      "metadata": {
        "id": "NaraUIDVjsGK"
      },
      "execution_count": null,
      "outputs": []
    },
    {
      "cell_type": "code",
      "source": [
        "(x_train, y_train), (x_test, y_test) = mnist.load_data()\n",
        "x_train, x_test = x_train / 255.0, x_test / 255.0"
      ],
      "metadata": {
        "colab": {
          "base_uri": "https://localhost:8080/"
        },
        "id": "_lYUNBf4m0ao",
        "outputId": "8130231e-250f-4af6-8f76-cb1b1e470027"
      },
      "execution_count": null,
      "outputs": [
        {
          "output_type": "stream",
          "name": "stdout",
          "text": [
            "Downloading data from https://storage.googleapis.com/tensorflow/tf-keras-datasets/mnist.npz\n",
            "11493376/11490434 [==============================] - 0s 0us/step\n",
            "11501568/11490434 [==============================] - 0s 0us/step\n"
          ]
        }
      ]
    },
    {
      "cell_type": "markdown",
      "source": [
        "## **Lets get the data ready**\n"
      ],
      "metadata": {
        "id": "Ixb3EoKmouYF"
      }
    },
    {
      "cell_type": "code",
      "source": [
        "#import the necessary libraries\n",
        "import tensorflow as tf\n",
        "import numpy as np\n",
        "import matplotlib.pyplot as plt\n",
        "#import nn_utils\n",
        "%matplotlib inline"
      ],
      "metadata": {
        "id": "Nf2xvPmdVTEJ"
      },
      "execution_count": null,
      "outputs": []
    },
    {
      "cell_type": "code",
      "source": [
        "# Let us define some helper functions to assist in preparing the training and test data \n",
        "\n",
        "def load_data():\n",
        "    (x_train, y_train), (x_test, y_test) = tf.keras.datasets.mnist.load_data()\n",
        "    x_train = np.reshape(x_train, (x_train.shape[0], 784))/255.\n",
        "    x_test = np.reshape(x_test, (x_test.shape[0], 784))/255.\n",
        "    y_train = tf.keras.utils.to_categorical(y_train)\n",
        "    y_test = tf.keras.utils.to_categorical(y_test)\n",
        "    return (x_train, y_train), (x_test, y_test)\n",
        "\n",
        "\n",
        "def plot_random_examples(x, y, p=None):\n",
        "    indices = np.random.choice(range(0, x.shape[0]), 10)\n",
        "    y = np.argmax(y, axis=1)\n",
        "    if p is None:\n",
        "        p = y\n",
        "    plt.figure(figsize=(10, 5))\n",
        "    for i, index in enumerate(indices):\n",
        "        plt.subplot(2, 5, i+1)\n",
        "        plt.imshow(x[index].reshape((28, 28)), cmap='binary')\n",
        "        plt.xticks([])\n",
        "        plt.yticks([])\n",
        "        if y[index] == p[index]:\n",
        "            col = 'g'\n",
        "        else:\n",
        "            col = 'r'\n",
        "        plt.xlabel(str(p[index]), color=col)\n",
        "    return plt\n",
        "\n",
        "\n",
        "def plot_results(history):\n",
        "    plt.figure(figsize=(12, 4))\n",
        "    epochs = len(history['val_loss'])\n",
        "    plt.subplot(1, 2, 1)\n",
        "    plt.plot(range(epochs), history['val_loss'], label='Val Loss')\n",
        "    plt.plot(range(epochs), history['train_loss'], label='Train Loss')\n",
        "    plt.xticks(list(range(epochs)))\n",
        "    plt.xlabel('Epochs')\n",
        "    plt.ylabel('Loss')\n",
        "    plt.legend()\n",
        "    plt.subplot(1, 2, 2)\n",
        "    plt.plot(range(epochs), history['val_acc'], label='Val Acc')\n",
        "    plt.plot(range(epochs), history['train_acc'], label='Train Acc')\n",
        "    plt.xticks(list(range(epochs)))\n",
        "    plt.xlabel('Epochs')\n",
        "    plt.ylabel('Accuracy')\n",
        "    plt.legend()\n",
        "    return plt"
      ],
      "metadata": {
        "id": "-7T4KVY9pDbE"
      },
      "execution_count": null,
      "outputs": []
    },
    {
      "cell_type": "code",
      "source": [
        "## Let us initialize our dataset and also create train and test set using the helper functions we created above\n",
        "\n",
        "(x_train, y_train), (x_test, y_test) = load_data()"
      ],
      "metadata": {
        "id": "mWLf-tGcVMUt",
        "outputId": "c6152611-5ee3-47b9-874a-554f59de811d",
        "colab": {
          "base_uri": "https://localhost:8080/"
        }
      },
      "execution_count": null,
      "outputs": [
        {
          "output_type": "stream",
          "name": "stdout",
          "text": [
            "Downloading data from https://storage.googleapis.com/tensorflow/tf-keras-datasets/mnist.npz\n",
            "11493376/11490434 [==============================] - 0s 0us/step\n",
            "11501568/11490434 [==============================] - 0s 0us/step\n"
          ]
        }
      ]
    },
    {
      "cell_type": "code",
      "source": [
        "## Let us do a manual check at few images in the training set just to see how the training images look\n",
        "\n",
        "plot_random_examples(x_train,y_train).show() \n",
        "\n",
        "## plot_random_examples as you can see creates a plt object and we need to use the .show() methd\n",
        "## to see the results."
      ],
      "metadata": {
        "colab": {
          "base_uri": "https://localhost:8080/",
          "height": 289
        },
        "id": "O9dmzMQgZbZu",
        "outputId": "9690b069-f389-47de-d223-1b8c29941754"
      },
      "execution_count": null,
      "outputs": [
        {
          "output_type": "display_data",
          "data": {
            "image/png": "[encoded data removed]",
            "text/plain": [
              "<Figure size 720x360 with 10 Axes>"
            ]
          },
          "metadata": {}
        }
      ]
    },
    {
      "cell_type": "markdown",
      "source": [
        "## Lets build a Machine Learning model\n",
        "\n",
        "First, we shall be building a three-layer feed-forward network as shown below:-\n",
        "\n",
        "$x \\rightarrow h^{1} \\rightarrow h^{2} \\rightarrow p(y|h^{2})$\n",
        "\n",
        "The hidden layers $h^{1}$ and $h^{2}$ have dimension = 500. We train the network for 250 epochs and test the classification error. In the first stage, we do not use regularizations. For this, we plot the cross-entropy loss on the batches and also plot the classification error on the validation data."
      ],
      "metadata": {
        "id": "jIJEM3JPgnDa"
      }
    },
    {
      "cell_type": "markdown",
      "source": [
        "## **Initializing the Neural Network**\n",
        "\n",
        "We have to create the Neural Network class, understand the init function and set up the initial parameter values."
      ],
      "metadata": {
        "id": "DbJ2aCA-haJY"
      }
    },
    {
      "cell_type": "code",
      "source": [
        "class NeuralNetwork:  ## Calling this class will automatically create a NN object with weights and baises initialized\n",
        "    \n",
        "    def __init__(self, layers):\n",
        "\n",
        "        self.layers = layers\n",
        "        self.L = len(layers)\n",
        "        self.num_features = layers[0]\n",
        "        self.num_classes = layers[-1]\n",
        "        \n",
        "        self.W = {}\n",
        "        self.b = {}\n",
        "        \n",
        "        self.dW = {}\n",
        "        self.db = {}\n",
        "        \n",
        "        self.setup()\n",
        "  \n",
        "        \n",
        "    def setup(self):\n",
        "       \n",
        "        for i in range(1, self.L):\n",
        "            self.W[i] = tf.Variable(tf.random.normal(shape=(self.layers[i],self.layers[i-1])))\n",
        "            self.b[i] = tf.Variable(tf.random.normal(shape=(self.layers[i],1)))\n",
        "       "
      ],
      "metadata": {
        "id": "fmBrpUsmZdL8"
      },
      "execution_count": null,
      "outputs": []
    },
    {
      "cell_type": "markdown",
      "source": [
        "### **Creating a Forward Pass function**"
      ],
      "metadata": {
        "id": "_nTvU1g7iXYV"
      }
    },
    {
      "cell_type": "code",
      "source": [
        "class NeuralNetwork(NeuralNetwork):\n",
        "    \n",
        "    def forward_pass(self, X):\n",
        "\n",
        "        A = tf.convert_to_tensor(X, dtype=tf.float32)\n",
        "        for i in range(1, self.L):\n",
        "            Z = tf.matmul(A,tf.transpose(self.W[i])) + tf.transpose(self.b[i])\n",
        "            if i != self.L-1:\n",
        "                A = tf.nn.relu(Z)\n",
        "            else:\n",
        "                A = Z\n",
        "        return A"
      ],
      "metadata": {
        "id": "CHSVGkd5iFYS"
      },
      "execution_count": null,
      "outputs": []
    },
    {
      "cell_type": "markdown",
      "source": [
        "### **Computing Loss and Updating Parameters**\n",
        "\n",
        "1.   We use the cross entropy loss with logits.\n",
        "2.   We update parameters for all the layers.\n",
        "\n"
      ],
      "metadata": {
        "id": "1k1sOvdDi3I0"
      }
    },
    {
      "cell_type": "code",
      "source": [
        "class NeuralNetwork(NeuralNetwork):\n",
        "\n",
        "    def compute_loss(self, A, Y):\n",
        "        loss = tf.nn.softmax_cross_entropy_with_logits(Y,A)\n",
        "        return tf.reduce_mean(loss)\n",
        "    \n",
        "    \n",
        "    def update_params(self, lr):\n",
        "        for i in range(1,self.L):\n",
        "            self.W[i].assign_sub(lr * self.dW[i])\n",
        "            self.b[i].assign_sub(lr * self.db[i])"
      ],
      "metadata": {
        "id": "wpFH2m-BiIgA"
      },
      "execution_count": null,
      "outputs": []
    },
    {
      "cell_type": "markdown",
      "source": [
        "### **Predict and Info Functions**\n",
        "\n",
        "1. First we have to unnderstandand the pre-written info function.\n",
        "2. Therefore we create a predict function with the help of the forward pass"
      ],
      "metadata": {
        "id": "uX0IyZU1j9Lp"
      }
    },
    {
      "cell_type": "code",
      "source": [
        "class NeuralNetwork(NeuralNetwork):\n",
        "    def predict(self, X):\n",
        "\n",
        "        A = self.forward_pass(X)\n",
        "        return tf.argmax(tf.nn.softmax(A), axis=1)\n",
        "    \n",
        "    def info(self):\n",
        "        num_params = 0\n",
        "        for i in range(1, self.L):\n",
        "            num_params += self.W[i].shape[0] * self.W[i].shape[1]\n",
        "            num_params += self.b[i].shape[0]\n",
        "        print('Input Features:', self.num_features)\n",
        "        print('Number of Classes:', self.num_classes)\n",
        "        print('Hidden Layers:')\n",
        "        print('--------------')\n",
        "        for i in range(1, self.L-1):\n",
        "            print('Layer {}, Units {}'.format(i, self.layers[i]))\n",
        "        print('--------------')\n",
        "        print('Number of parameters:', num_params)"
      ],
      "metadata": {
        "id": "2CrRMHlxkFdc"
      },
      "execution_count": null,
      "outputs": []
    },
    {
      "cell_type": "markdown",
      "source": [
        "## **Training on Batch**\n",
        "\n",
        "1. We create the main training mechanism.\n",
        "\n",
        "2. And we implement the gradient descent with automatic differentiation."
      ],
      "metadata": {
        "id": "AaDKHJNFFg0d"
      }
    },
    {
      "cell_type": "code",
      "source": [
        "class NeuralNetwork(NeuralNetwork):\n",
        "    def train_on_batch(self, X, Y, lr):\n",
        "         \n",
        "        X = tf.convert_to_tensor(X, dtype=tf.float32)\n",
        "        Y = tf.convert_to_tensor(Y, dtype=tf.float32)\n",
        "          \n",
        "        with tf.GradientTape(persistent=True) as tape:\n",
        "            A = self.forward_pass(X)\n",
        "            loss = self.compute_loss(A, Y)\n",
        "        for i in range(1, self.L):\n",
        "            self.dW[i] = tape.gradient(loss, self.W[i])\n",
        "            self.db[i] = tape.gradient(loss, self.b[i])\n",
        "        del tape\n",
        "        self.update_params(lr)\n",
        "        return loss.numpy() "
      ],
      "metadata": {
        "id": "kEaa4zAYFcAb"
      },
      "execution_count": null,
      "outputs": []
    },
    {
      "cell_type": "markdown",
      "source": [
        "## **Training on Complete Set**\n",
        "\n",
        "1. We break down data-set in batches.\n",
        "\n",
        "2. And again we break down the training process in epochs and steps."
      ],
      "metadata": {
        "id": "gw3rQB39GHx1"
      }
    },
    {
      "cell_type": "code",
      "source": [
        "class NeuralNetwork(NeuralNetwork):\n",
        "    def train(self, x_train, y_train, x_test, y_test, epochs, steps_per_epoch, batch_size, lr):\n",
        "\n",
        "        history = {\n",
        "            'val_loss':[],\n",
        "            'train_loss':[],\n",
        "            'train_acc':[],\n",
        "            'val_acc':[]\n",
        "        }\n",
        "        \n",
        "        for e in range(0, epochs):\n",
        "            epoch_train_loss = 0.\n",
        "            print('Epoch{}'.format(e), end='.')\n",
        "            for i in range(0, steps_per_epoch):\n",
        "                x_batch = x_train[i*batch_size:(i+1)*batch_size]\n",
        "                y_batch = y_train[i*batch_size:(i+1)*batch_size]\n",
        "                \n",
        "                batch_loss = self.train_on_batch(x_batch, y_batch,lr)\n",
        "                epoch_train_loss += batch_loss\n",
        "                \n",
        "                if i%int(steps_per_epoch/10) == 0:\n",
        "                    print(end='.')\n",
        "                    \n",
        "            history['train_loss'].append(epoch_train_loss/steps_per_epoch)\n",
        "            \n",
        "            train_preds = self.predict(x_train)\n",
        "            train_acc = np.mean(np.argmax(y_train, axis=1) == train_preds.numpy())\n",
        "            history['train_acc'].append(train_acc)\n",
        "            \n",
        "            val_A = self.forward_pass(x_test)\n",
        "            val_loss = self.compute_loss(val_A, y_test).numpy()\n",
        "            history['val_loss'].append(val_loss)\n",
        "            \n",
        "            val_preds = self.predict(x_test)\n",
        "            val_acc = np.mean(np.argmax(y_test, axis=1) == val_preds.numpy())\n",
        "            history['val_acc'].append(val_acc)\n",
        "            \n",
        "            print('Train acc:',train_acc,\" \",'Val acc:',val_acc)\n",
        "        return history"
      ],
      "metadata": {
        "id": "wughzHQ7GM-r"
      },
      "execution_count": null,
      "outputs": []
    },
    {
      "cell_type": "markdown",
      "source": [
        "## **Application**\n",
        "1. We apply the neural network model to solve a multi-class classification problem.\n",
        "2. We create model instance and setting up hyperparameters.\n",
        "3. And we create the model."
      ],
      "metadata": {
        "id": "x97gVFFUM5Om"
      }
    },
    {
      "cell_type": "code",
      "source": [
        "net = NeuralNetwork([784,250,250,10])\n",
        "net.info()"
      ],
      "metadata": {
        "colab": {
          "base_uri": "https://localhost:8080/"
        },
        "id": "n3lUzVpEMe0Z",
        "outputId": "81c1c089-1b61-423d-c99d-a9a93b7fae9f"
      },
      "execution_count": null,
      "outputs": [
        {
          "output_type": "stream",
          "name": "stdout",
          "text": [
            "Input Features: 784\n",
            "Number of Classes: 10\n",
            "Hidden Layers:\n",
            "--------------\n",
            "Layer 1, Units 250\n",
            "Layer 2, Units 250\n",
            "--------------\n",
            "Number of parameters: 261510\n"
          ]
        }
      ]
    },
    {
      "cell_type": "code",
      "source": [
        "batch_size = 500\n",
        "epochs = 20\n",
        "steps_per_epoch = int(x_train.shape[0]/batch_size)\n",
        "lr = 3e-3\n",
        "print('Steps per epoch', steps_per_epoch)"
      ],
      "metadata": {
        "colab": {
          "base_uri": "https://localhost:8080/"
        },
        "id": "GOSCtdoqNtzE",
        "outputId": "c925945f-d9aa-44e2-e32e-7e470454cbd5"
      },
      "execution_count": null,
      "outputs": [
        {
          "output_type": "stream",
          "name": "stdout",
          "text": [
            "Steps per epoch 120\n"
          ]
        }
      ]
    },
    {
      "cell_type": "code",
      "source": [
        "history = net.train(\n",
        "    x_train,y_train,\n",
        "    x_test, y_test,\n",
        "    epochs, steps_per_epoch,\n",
        "    batch_size, lr)"
      ],
      "metadata": {
        "colab": {
          "base_uri": "https://localhost:8080/"
        },
        "id": "piHBw7bxPX3R",
        "outputId": "75907b3f-fbe7-4509-fad8-7a632941a746"
      },
      "execution_count": null,
      "outputs": [
        {
          "output_type": "stream",
          "name": "stdout",
          "text": [
            "Epoch0...........Train acc: 0.7819333333333334   Val acc: 0.7865\n",
            "Epoch1...........Train acc: 0.8315   Val acc: 0.8315\n",
            "Epoch2...........Train acc: 0.8529   Val acc: 0.8523\n",
            "Epoch3...........Train acc: 0.8657833333333333   Val acc: 0.8629\n",
            "Epoch4...........Train acc: 0.8756333333333334   Val acc: 0.8701\n",
            "Epoch5...........Train acc: 0.8821166666666667   Val acc: 0.8759\n",
            "Epoch6...........Train acc: 0.8877833333333334   Val acc: 0.8825\n",
            "Epoch7...........Train acc: 0.8928   Val acc: 0.8855\n",
            "Epoch8...........Train acc: 0.897   Val acc: 0.8881\n",
            "Epoch9...........Train acc: 0.8997333333333334   Val acc: 0.8897\n",
            "Epoch10...........Train acc: 0.9025666666666666   Val acc: 0.8921\n",
            "Epoch11...........Train acc: 0.9061833333333333   Val acc: 0.8945\n",
            "Epoch12...........Train acc: 0.9088   Val acc: 0.8981\n",
            "Epoch13...........Train acc: 0.9106166666666666   Val acc: 0.8987\n",
            "Epoch14...........Train acc: 0.9129666666666667   Val acc: 0.8996\n",
            "Epoch15...........Train acc: 0.9147833333333333   Val acc: 0.9006\n",
            "Epoch16...........Train acc: 0.9163833333333333   Val acc: 0.9018\n",
            "Epoch17...........Train acc: 0.91825   Val acc: 0.9032\n",
            "Epoch18...........Train acc: 0.9195833333333333   Val acc: 0.903\n",
            "Epoch19...........Train acc: 0.9213833333333333   Val acc: 0.905\n"
          ]
        }
      ]
    },
    {
      "cell_type": "markdown",
      "source": [
        "## **`Results`**\n",
        "1. We plot the training results.\n",
        "2. A look at predictions on the test set."
      ],
      "metadata": {
        "id": "dNyq4SnpT_Cy"
      }
    },
    {
      "cell_type": "code",
      "source": [
        "plot_results(history).show()"
      ],
      "metadata": {
        "colab": {
          "base_uri": "https://localhost:8080/",
          "height": 279
        },
        "id": "qWzk5o1SPw_U",
        "outputId": "0cb67209-b48c-4842-a553-62af0d91b2d3"
      },
      "execution_count": null,
      "outputs": [
        {
          "output_type": "display_data",
          "data": {
            "image/png": "[encoded data removed]",
            "text/plain": [
              "<Figure size 864x288 with 2 Axes>"
            ]
          },
          "metadata": {
            "needs_background": "light"
          }
        }
      ]
    },
    {
      "cell_type": "markdown",
      "source": [
        "### **Let us plot some images and see if the predicted status**\n"
      ],
      "metadata": {
        "id": "qvsZJDYeUwui"
      }
    },
    {
      "cell_type": "code",
      "source": [
        "preds = net.predict(x_test)\n",
        "plot_random_examples(x_test,y_test,preds.numpy()).show()"
      ],
      "metadata": {
        "colab": {
          "base_uri": "https://localhost:8080/",
          "height": 289
        },
        "id": "ymHEwSOUUhpj",
        "outputId": "8464e4c7-c5c4-47bf-d5ea-adbfd558b6c4"
      },
      "execution_count": null,
      "outputs": [
        {
          "output_type": "display_data",
          "data": {
            "image/png": "[encoded data removed]",
            "text/plain": [
              "<Figure size 720x360 with 10 Axes>"
            ]
          },
          "metadata": {}
        }
      ]
    },
    {
      "cell_type": "markdown",
      "source": [
        "## **THANK YOU**"
      ],
      "metadata": {
        "id": "LfdnFF25U9Fl"
      }
    }
  ]
}